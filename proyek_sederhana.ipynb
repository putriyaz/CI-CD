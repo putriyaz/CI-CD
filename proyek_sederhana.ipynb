{
  "cells": [
    {
      "cell_type": "code",
      "execution_count": null,
      "metadata": {
        "colab": {
          "base_uri": "https://localhost:8080/"
        },
        "id": "jdNWA4g_Unn0",
        "outputId": "8209b59c-80bd-4970-b06e-bda6cacc1512"
      },
      "outputs": [
        {
          "name": "stdout",
          "output_type": "stream",
          "text": [
            "Hasil dari 3 + 5 = 8\n"
          ]
        }
      ],
      "source": [
        "def add(a, b):\n",
        "    return a + b\n",
        "\n",
        "if __name__ == \"__main__\":\n",
        "    x = 3\n",
        "    y = 5\n",
        "    print(f\"Hasil dari {x} + {y} = {add(x, y)}\")\n",
        "    \n",
        "//Halo dari Developer B"
      ]
    }
  ],
  "metadata": {
    "colab": {
      "provenance": []
    },
    "kernelspec": {
      "display_name": "Python 3",
      "name": "python3"
    },
    "language_info": {
      "name": "python"
    }
  },
  "nbformat": 4,
  "nbformat_minor": 0
}
